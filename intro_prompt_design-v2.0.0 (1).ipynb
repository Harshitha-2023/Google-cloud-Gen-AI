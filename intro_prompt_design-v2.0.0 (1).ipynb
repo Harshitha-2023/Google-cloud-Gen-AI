{
 "cells": [
  {
   "cell_type": "code",
   "execution_count": 1,
   "metadata": {
    "id": "ur8xi4C7S06n",
    "tags": []
   },
   "outputs": [],
   "source": [
    "# Copyright 2024 Google LLC\n",
    "#\n",
    "# Licensed under the Apache License, Version 2.0 (the \"License\");\n",
    "# you may not use this file except in compliance with the License.\n",
    "# You may obtain a copy of the License at\n",
    "#\n",
    "#     https://www.apache.org/licenses/LICENSE-2.0\n",
    "#\n",
    "# Unless required by applicable law or agreed to in writing, software\n",
    "# distributed under the License is distributed on an \"AS IS\" BASIS,\n",
    "# WITHOUT WARRANTIES OR CONDITIONS OF ANY KIND, either express or implied.\n",
    "# See the License for the specific language governing permissions and\n",
    "# limitations under the License."
   ]
  },
  {
   "cell_type": "markdown",
   "metadata": {
    "id": "JAPoU8Sm5E6e"
   },
   "source": [
    "# Prompt Design - Best Practices\n",
    "\n",
    "<table align=\"left\">\n",
    "  <td style=\"text-align: center\">\n",
    "    <a href=\"https://colab.research.google.com/github/GoogleCloudPlatform/generative-ai/blob/main/gemini/prompts/intro_prompt_design.ipynb\">\n",
    "      <img src=\"https://cloud.google.com/ml-engine/images/colab-logo-32px.png\" alt=\"Google Colaboratory logo\"><br> Open in Colab\n",
    "    </a>\n",
    "  </td>\n",
    "  <td style=\"text-align: center\">\n",
    "    <a href=\"https://console.cloud.google.com/vertex-ai/colab/import/https:%2F%2Fraw.githubusercontent.com%2FGoogleCloudPlatform%2Fgenerative-ai%2Fmain%2Fgemini%2Fprompts%2Fintro_prompt_design.ipynb\">\n",
    "      <img width=\"32px\" src=\"https://lh3.googleusercontent.com/JmcxdQi-qOpctIvWKgPtrzZdJJK-J3sWE1RsfjZNwshCFgE_9fULcNpuXYTilIR2hjwN\" alt=\"Google Cloud Colab Enterprise logo\"><br> Open in Colab Enterprise\n",
    "    </a>\n",
    "  </td>    \n",
    "  <td style=\"text-align: center\">\n",
    "    <a href=\"https://console.cloud.google.com/vertex-ai/workbench/deploy-notebook?download_url=https://raw.githubusercontent.com/GoogleCloudPlatform/generative-ai/main/gemini/prompts/intro_prompt_design.ipynb\">\n",
    "      <img src=\"https://lh3.googleusercontent.com/UiNooY4LUgW_oTvpsNhPpQzsstV5W8F7rYgxgGBD85cWJoLmrOzhVs_ksK_vgx40SHs7jCqkTkCk=e14-rj-sc0xffffff-h130-w32\" alt=\"Vertex AI logo\"><br> Open in Workbench\n",
    "    </a>\n",
    "  </td>\n",
    "  <td style=\"text-align: center\">\n",
    "    <a href=\"https://github.com/GoogleCloudPlatform/generative-ai/blob/main/gemini/prompts/intro_prompt_design.ipynb\">\n",
    "      <img src=\"https://cloud.google.com/ml-engine/images/github-logo-32px.png\" alt=\"GitHub logo\"><br> View on GitHub\n",
    "    </a>\n",
    "  </td>\n",
    "  <td style=\"text-align: center\">\n",
    "    <a href=\"https://goo.gle/4fWHlze\">\n",
    "      <img width=\"32px\" src=\"https://cdn.qwiklabs.com/assets/gcp_cloud-e3a77215f0b8bfa9b3f611c0d2208c7e8708ed31.svg\" alt=\"Google Cloud logo\"><br> Open in  Cloud Skills Boost\n",
    "    </a>\n",
    "  </td>\n",
    "</table>\n",
    "\n",
    "<div style=\"clear: both;\"></div>\n",
    "\n",
    "<b>Share to:</b>\n",
    "\n",
    "<a href=\"https://www.linkedin.com/sharing/share-offsite/?url=https%3A//github.com/GoogleCloudPlatform/generative-ai/blob/main/gemini/prompts/intro_prompt_design.ipynb\" target=\"_blank\">\n",
    "  <img width=\"20px\" src=\"https://upload.wikimedia.org/wikipedia/commons/8/81/LinkedIn_icon.svg\" alt=\"LinkedIn logo\">\n",
    "</a>\n",
    "\n",
    "<a href=\"https://bsky.app/intent/compose?text=https%3A//github.com/GoogleCloudPlatform/generative-ai/blob/main/gemini/prompts/intro_prompt_design.ipynb\" target=\"_blank\">\n",
    "  <img width=\"20px\" src=\"https://upload.wikimedia.org/wikipedia/commons/7/7a/Bluesky_Logo.svg\" alt=\"Bluesky logo\">\n",
    "</a>\n",
    "\n",
    "<a href=\"https://twitter.com/intent/tweet?url=https%3A//github.com/GoogleCloudPlatform/generative-ai/blob/main/gemini/prompts/intro_prompt_design.ipynb\" target=\"_blank\">\n",
    "  <img width=\"20px\" src=\"https://upload.wikimedia.org/wikipedia/commons/5/53/X_logo_2023_original.svg\" alt=\"X logo\">\n",
    "</a>\n",
    "\n",
    "<a href=\"https://reddit.com/submit?url=https%3A//github.com/GoogleCloudPlatform/generative-ai/blob/main/gemini/prompts/intro_prompt_design.ipynb\" target=\"_blank\">\n",
    "  <img width=\"20px\" src=\"https://redditinc.com/hubfs/Reddit%20Inc/Brand/Reddit_Logo.png\" alt=\"Reddit logo\">\n",
    "</a>\n",
    "\n",
    "<a href=\"https://www.facebook.com/sharer/sharer.php?u=https%3A//github.com/GoogleCloudPlatform/generative-ai/blob/main/gemini/prompts/intro_prompt_design.ipynb\" target=\"_blank\">\n",
    "  <img width=\"20px\" src=\"https://upload.wikimedia.org/wikipedia/commons/5/51/Facebook_f_logo_%282019%29.svg\" alt=\"Facebook logo\">\n",
    "</a>            "
   ]
  },
  {
   "cell_type": "markdown",
   "metadata": {
    "id": "84f0f73a0f76"
   },
   "source": [
    "| | |\n",
    "|-|-|\n",
    "|Author(s) | [Polong Lin](https://github.com/polong-lin), [Karl Weinmeister](https://github.com/kweinmeister) |"
   ]
  },
  {
   "cell_type": "markdown",
   "metadata": {
    "id": "tvgnzT1CKxrO"
   },
   "source": [
    "## Overview\n",
    "\n",
    "This notebook covers the essentials of prompt engineering, including some best practices.\n",
    "\n",
    "Learn more about prompt design in the [official documentation](https://cloud.google.com/vertex-ai/docs/generative-ai/text/text-overview).\n",
    "\n",
    "In this notebook, you learn best practices around prompt engineering -- how to design prompts to improve the quality of your responses.\n",
    "\n",
    "This notebook covers the following best practices for prompt engineering:\n",
    "\n",
    "- Be concise\n",
    "- Be specific and well-defined\n",
    "- Ask one task at a time\n",
    "- Turn generative tasks into classification tasks\n",
    "- Improve response quality by including examples"
   ]
  },
  {
   "cell_type": "markdown",
   "metadata": {
    "id": "61RBz8LLbxCR"
   },
   "source": [
    "## Getting Started"
   ]
  },
  {
   "cell_type": "markdown",
   "metadata": {
    "id": "No17Cw5hgx12"
   },
   "source": [
    "### Install Google Gen AI SDK\n"
   ]
  },
  {
   "cell_type": "code",
   "execution_count": 2,
   "metadata": {
    "id": "tFy3H3aPgx12"
   },
   "outputs": [
    {
     "name": "stdout",
     "output_type": "stream",
     "text": [
      "Note: you may need to restart the kernel to use updated packages.\n"
     ]
    }
   ],
   "source": [
    "%pip install --upgrade --quiet google-genai"
   ]
  },
  {
   "cell_type": "markdown",
   "metadata": {
    "id": "R5Xep4W9lq-Z"
   },
   "source": [
    "### Restart runtime\n",
    "\n",
    "To use the newly installed packages in this Jupyter runtime, you must restart the runtime. You can do this by running the cell below, which will restart the current kernel."
   ]
  },
  {
   "cell_type": "code",
   "execution_count": 3,
   "metadata": {
    "id": "XRvKdaPDTznN",
    "tags": []
   },
   "outputs": [
    {
     "data": {
      "text/plain": [
       "{'status': 'ok', 'restart': True}"
      ]
     },
     "execution_count": 3,
     "metadata": {},
     "output_type": "execute_result"
    }
   ],
   "source": [
    "import IPython\n",
    "\n",
    "app = IPython.Application.instance()\n",
    "app.kernel.do_shutdown(True)"
   ]
  },
  {
   "cell_type": "markdown",
   "metadata": {
    "id": "SbmM4z7FOBpM"
   },
   "source": [
    "<div class=\"alert alert-block alert-warning\">\n",
    "<b>⚠️ The kernel is going to restart. Please wait until it is finished before continuing to the next step. ⚠️</b>\n",
    "</div>\n"
   ]
  },
  {
   "cell_type": "markdown",
   "metadata": {
    "id": "dmWOrTJ3gx13"
   },
   "source": [
    "### Authenticate your notebook environment (Colab only)\n",
    "\n",
    "Authenticate your environment on Google Colab.\n"
   ]
  },
  {
   "cell_type": "code",
   "execution_count": 1,
   "metadata": {
    "id": "NyKGtVQjgx13"
   },
   "outputs": [],
   "source": [
    "import sys\n",
    "\n",
    "if \"google.colab\" in sys.modules:\n",
    "    from google.colab import auth\n",
    "\n",
    "    auth.authenticate_user()"
   ]
  },
  {
   "cell_type": "markdown",
   "metadata": {
    "id": "06489bd14f16"
   },
   "source": [
    "### Import libraries\n"
   ]
  },
  {
   "cell_type": "code",
   "execution_count": 2,
   "metadata": {
    "id": "154137022fb6"
   },
   "outputs": [],
   "source": [
    "from IPython.display import Markdown, display\n",
    "from google import genai\n",
    "from google.genai.types import GenerateContentConfig"
   ]
  },
  {
   "cell_type": "markdown",
   "metadata": {
    "id": "DF4l8DTdWgPY"
   },
   "source": [
    "### Set Google Cloud project information and create client\n",
    "\n",
    "To get started using Vertex AI, you must have an existing Google Cloud project and [enable the Vertex AI API](https://console.cloud.google.com/flows/enableapi?apiid=aiplatform.googleapis.com).\n",
    "\n",
    "Learn more about [setting up a project and a development environment](https://cloud.google.com/vertex-ai/docs/start/cloud-environment)."
   ]
  },
  {
   "cell_type": "code",
   "execution_count": 3,
   "metadata": {
    "id": "Nqwi-5ufWp_B",
    "tags": []
   },
   "outputs": [],
   "source": [
    "import os\n",
    "\n",
    "PROJECT_ID = \"qwiklabs-gcp-00-ac7d92a31c07\"  # @param {type: \"string\", placeholder: \"[your-project-id]\", isTemplate: true}\n",
    "if not PROJECT_ID or PROJECT_ID == \"qwiklabs-gcp-00-ac7d92a31c07\":\n",
    "    PROJECT_ID = str(os.environ.get(\"GOOGLE_CLOUD_PROJECT\"))\n",
    "\n",
    "LOCATION = os.environ.get(\"europe-west4\", \"us-central1\")"
   ]
  },
  {
   "cell_type": "code",
   "execution_count": 4,
   "metadata": {
    "id": "QqRWdPGmW3NJ"
   },
   "outputs": [],
   "source": [
    "client = genai.Client(vertexai=True, project=PROJECT_ID, location=LOCATION)"
   ]
  },
  {
   "cell_type": "markdown",
   "metadata": {
    "id": "OnFPpCRtXRl4"
   },
   "source": [
    "### Load model\n",
    "\n",
    "Learn more about all [Gemini models on Vertex AI](https://cloud.google.com/vertex-ai/generative-ai/docs/learn/models#gemini-models)."
   ]
  },
  {
   "cell_type": "code",
   "execution_count": 5,
   "metadata": {
    "id": "IQYu_9SvXQah"
   },
   "outputs": [],
   "source": [
    "MODEL_ID = \"gemini-2.0-flash-001\"  # @param {type: \"string\"}"
   ]
  },
  {
   "cell_type": "markdown",
   "metadata": {
    "id": "cVOtUNJ5X0PY"
   },
   "source": [
    "## Prompt engineering best practices"
   ]
  },
  {
   "cell_type": "markdown",
   "metadata": {
    "id": "uv_e0fEPX60q"
   },
   "source": [
    "Prompt engineering is all about how to design your prompts so that the response is what you were indeed hoping to see.\n",
    "\n",
    "The idea of using \"unfancy\" prompts is to minimize the noise in your prompt to reduce the possibility of the LLM misinterpreting the intent of the prompt. Below are a few guidelines on how to engineer \"unfancy\" prompts.\n",
    "\n",
    "In this section, you'll cover the following best practices when engineering prompts:\n",
    "\n",
    "* Be concise\n",
    "* Be specific, and well-defined\n",
    "* Ask one task at a time\n",
    "* Improve response quality by including examples\n",
    "* Turn generative tasks to classification tasks to improve safety"
   ]
  },
  {
   "cell_type": "markdown",
   "metadata": {
    "id": "0pY4XX0OX9_Y"
   },
   "source": [
    "### Be concise"
   ]
  },
  {
   "cell_type": "markdown",
   "metadata": {
    "id": "xlRpxyxGYA1K"
   },
   "source": [
    "🛑 Not recommended. The prompt below is unnecessarily verbose."
   ]
  },
  {
   "cell_type": "code",
   "execution_count": null,
   "metadata": {
    "id": "YKV4G-CfXdbi"
   },
   "outputs": [],
   "source": [
    "prompt = \"What do you think could be a good name for a flower shop that specializes in selling bouquets of dried flowers more than fresh flowers?\"\n",
    "\n",
    "response = client.models.generate_content(model=MODEL_ID, contents=prompt)\n",
    "display(Markdown(response.text))"
   ]
  },
  {
   "cell_type": "markdown",
   "metadata": {
    "id": "YrJexRHJYnmC"
   },
   "source": [
    "✅ Recommended. The prompt below is to the point and concise."
   ]
  },
  {
   "cell_type": "code",
   "execution_count": 6,
   "metadata": {
    "id": "VHetn9lCYrXB"
   },
   "outputs": [
    {
     "data": {
      "text/markdown": [
       "Okay, here are some name suggestions for a dried flower shop, playing with different angles like the timelessness, artistry, natural aspect, and modern appeal:\n",
       "\n",
       "**Emphasizing Timelessness & Longevity:**\n",
       "\n",
       "*   The Everbloom Studio\n",
       "*   Lasting Petals\n",
       "*   Forever in Bloom\n",
       "*   Timeless Blooms\n",
       "*   The Preserved Petal\n",
       "*   Eternally Floral\n",
       "*   The Keepsake Bouquet\n",
       "\n",
       "**Highlighting the Artistry & Design:**\n",
       "\n",
       "*   The Dried Canvas\n",
       "*   Floral Alchemy\n",
       "*   Petal & Pine\n",
       "*   The Still Life Florist\n",
       "*   Arrangements in Time\n",
       "*   The Botanical Curator\n",
       "*   Withered Wonders\n",
       "\n",
       "**Focusing on the Natural & Organic:**\n",
       "\n",
       "*   The Meadow Dried\n",
       "*   Sunbaked Blooms\n",
       "*   Field & Flora\n",
       "*   The Dry Garden\n",
       "*   Earthbound Florals\n",
       "*   Nature's Palette (Dried)\n",
       "*   The Rustic Bloom\n",
       "\n",
       "**Modern & Minimalist:**\n",
       "\n",
       "*   Dried.\n",
       "*   The Floral Archive\n",
       "*   Still Life Florals\n",
       "*   Bloom Haus\n",
       "*   The Dry Stem\n",
       "*   Kindred Blooms\n",
       "*   Gather & Dry\n",
       "\n",
       "**Playful & Unique:**\n",
       "\n",
       "*   The Upside Down Bouquet\n",
       "*   Pressed & Possessed\n",
       "*   Dust & Delight\n",
       "*   The Bloom Room (Dried)\n",
       "*   Fossilized Flora\n",
       "*   The Petal Alchemist\n",
       "*   Second Bloom\n",
       "\n",
       "**Tips for Choosing:**\n",
       "\n",
       "*   **Consider your target audience:** Are you aiming for a high-end clientele or a more casual, everyday customer?\n",
       "*   **Check for availability:** Make sure the name isn't already in use and that you can secure a domain name and social media handles.\n",
       "*   **Say it out loud:** Does the name flow well and is it easy to remember?\n",
       "*   **Get feedback:** Ask friends, family, or potential customers for their opinions.\n",
       "\n",
       "I hope this gives you a great starting point!  Good luck with your flower shop!\n"
      ],
      "text/plain": [
       "<IPython.core.display.Markdown object>"
      ]
     },
     "metadata": {},
     "output_type": "display_data"
    }
   ],
   "source": [
    "prompt = \"Suggest a name for a flower shop that sells bouquets of dried flowers\"\n",
    "\n",
    "response = client.models.generate_content(model=MODEL_ID, contents=prompt)\n",
    "display(Markdown(response.text))"
   ]
  },
  {
   "cell_type": "markdown",
   "metadata": {
    "id": "eXTAvdOHY0OC"
   },
   "source": [
    "### Be specific, and well-defined"
   ]
  },
  {
   "cell_type": "markdown",
   "metadata": {
    "id": "FTH4GEIgY1dp"
   },
   "source": [
    "Suppose that you want to brainstorm creative ways to describe Earth."
   ]
  },
  {
   "cell_type": "markdown",
   "metadata": {
    "id": "o5BmXBiGY4KC"
   },
   "source": [
    "🛑 The prompt below might be a bit too generic (which is certainly OK if you'd like to ask a generic question!)"
   ]
  },
  {
   "cell_type": "code",
   "execution_count": 11,
   "metadata": {
    "id": "eHBaMvv7Y6mR"
   },
   "outputs": [
    {
     "data": {
      "text/markdown": [
       "Okay, let's dive into the fascinating details of our home, Earth! Here's a breakdown covering various aspects:\n",
       "\n",
       "**Basic Facts:**\n",
       "\n",
       "*   **Name:** Earth (The only planet not named after a Greek or Roman deity).\n",
       "*   **Planet Type:** Terrestrial (rocky).\n",
       "*   **Position in Solar System:** Third planet from the Sun.\n",
       "*   **Diameter:** Approximately 12,742 km (7,918 miles).\n",
       "*   **Circumference:** Roughly 40,075 km (24,901 miles).\n",
       "*   **Mass:** 5.97 x 10^24 kg.\n",
       "*   **Density:** 5.514 g/cm³ (densest planet in the Solar System).\n",
       "*   **Orbit:**\n",
       "    *   **Average Distance from Sun:** 149.6 million km (93 million miles) - 1 Astronomical Unit (AU).\n",
       "    *   **Orbital Period (Year):** 365.25 days (This is why we have leap years!).\n",
       "    *   **Orbital Speed:** Approximately 29.78 km/s (67,000 mph).\n",
       "*   **Rotation:**\n",
       "    *   **Rotation Period (Day):** 23 hours, 56 minutes, and 4 seconds.\n",
       "    *   **Tilt of Axis:** 23.5 degrees (This tilt is responsible for Earth's seasons).\n",
       "*   **Atmosphere:**\n",
       "    *   Primarily composed of Nitrogen (78%) and Oxygen (21%), with trace amounts of other gases like argon, carbon dioxide, and water vapor.\n",
       "*   **Magnetic Field:** Strong magnetic field, generated by the movement of molten iron in the Earth's outer core. This field protects us from harmful solar radiation.\n",
       "*   **Moons:** One natural satellite: the Moon.\n",
       "*   **Rings:** None.\n",
       "\n",
       "**Internal Structure:**\n",
       "\n",
       "Earth is composed of layers:\n",
       "\n",
       "*   **Inner Core:** A solid sphere made mostly of iron and nickel. It's incredibly hot (estimated around 5,200°C or 9,392°F) and under immense pressure.\n",
       "*   **Outer Core:** A liquid layer, also primarily iron and nickel. The movement of this molten metal generates Earth's magnetic field.\n",
       "*   **Mantle:** The thickest layer, making up about 84% of Earth's volume. It's mostly solid, but behaves like a very viscous fluid over long periods. Convection currents in the mantle drive plate tectonics.\n",
       "*   **Crust:** The outermost layer. It's thin and rocky. There are two types:\n",
       "    *   **Oceanic Crust:** Thinner (5-10 km), denser, and made of basalt.\n",
       "    *   **Continental Crust:** Thicker (30-70 km), less dense, and made of granite.\n",
       "\n",
       "**Surface Features:**\n",
       "\n",
       "*   **Oceans:** Cover about 71% of Earth's surface.  They play a crucial role in regulating climate and supporting life.\n",
       "*   **Continents:** Large landmasses that rise above sea level. Divided into tectonic plates.\n",
       "*   **Mountains:** Formed by tectonic activity (collision of plates), volcanism, or erosion.\n",
       "*   **Valleys:** Depressions in the Earth's surface, often formed by rivers or glaciers.\n",
       "*   **Deserts:** Arid regions with very little precipitation.\n",
       "*   **Polar Ice Caps:** Large areas of ice covering the Arctic and Antarctic regions.\n",
       "\n",
       "**Plate Tectonics:**\n",
       "\n",
       "*   Earth's crust is divided into several large and smaller plates that float on the semi-molten mantle.\n",
       "*   These plates are constantly moving, driven by convection currents in the mantle.\n",
       "*   Plate movement causes:\n",
       "    *   **Earthquakes:** Sudden releases of energy when plates slip past each other.\n",
       "    *   **Volcanoes:** Occur when molten rock (magma) erupts onto the surface.\n",
       "    *   **Mountain Formation:** When plates collide and buckle.\n",
       "    *   **Sea Floor Spreading:** At mid-ocean ridges where new crust is created.\n",
       "    *   **Subduction:** When one plate slides beneath another.\n",
       "\n",
       "**Atmosphere and Climate:**\n",
       "\n",
       "*   **Atmosphere's Role:**\n",
       "    *   Protects us from harmful solar radiation (UV, X-rays).\n",
       "    *   Regulates temperature by trapping heat (the greenhouse effect).\n",
       "    *   Provides the air we breathe.\n",
       "*   **Climate:** The long-term weather patterns of a region. Influenced by factors like:\n",
       "    *   Solar radiation\n",
       "    *   Atmospheric composition\n",
       "    *   Ocean currents\n",
       "    *   Latitude\n",
       "    *   Altitude\n",
       "\n",
       "**Life on Earth:**\n",
       "\n",
       "*   Earth is the only known planet to harbor life.\n",
       "*   Life is incredibly diverse, ranging from microscopic bacteria to giant whales.\n",
       "*   The conditions that make life possible on Earth include:\n",
       "    *   Liquid water\n",
       "    *   A stable temperature range\n",
       "    *   An atmosphere with oxygen\n",
       "    *   A magnetic field that protects from harmful radiation\n",
       "    *   Essential elements (carbon, hydrogen, nitrogen, oxygen, phosphorus, sulfur)\n",
       "\n",
       "**The Moon:**\n",
       "\n",
       "*   Earth's only natural satellite.\n",
       "*   About one-quarter the size of Earth.\n",
       "*   Has a significant influence on Earth:\n",
       "    *   **Tides:** The Moon's gravity pulls on Earth's oceans, creating tides.\n",
       "    *   **Stabilization of Earth's Axis:**  The Moon's gravitational pull helps stabilize Earth's axial tilt, which contributes to relatively stable seasons.\n",
       "    *   **Length of Day:**  The Moon has gradually slowed Earth's rotation over billions of years.\n",
       "\n",
       "**Earth in Space:**\n",
       "\n",
       "*   Part of the Solar System, which includes the Sun, eight planets, dwarf planets, asteroids, comets, and other celestial objects.\n",
       "*   The Solar System is located in the Orion Arm of the Milky Way Galaxy.\n",
       "\n",
       "**Unique Features of Earth:**\n",
       "\n",
       "*   **Liquid Water:**  The abundance of liquid water is crucial for life.\n",
       "*   **Plate Tectonics:** Earth is the only planet in our solar system known to have active plate tectonics.\n",
       "*   **Oxygen-Rich Atmosphere:**  The presence of a significant amount of free oxygen in the atmosphere is a result of photosynthesis by plants and other organisms.\n",
       "*   **Life:** Of course!\n",
       "\n",
       "**Things to consider:**\n",
       "\n",
       "*   **Climate Change:** A major challenge facing humanity.  Caused by increased greenhouse gas emissions, leading to rising temperatures, sea level rise, and more extreme weather events.\n",
       "*   **Sustainability:**  The need to use resources responsibly to ensure the long-term health of the planet and the well-being of future generations.\n",
       "*   **Exploration:**  We are constantly learning more about Earth through scientific research and exploration.\n",
       "\n",
       "I've covered a lot of ground!  Is there anything specific you'd like to know more about? For example:\n",
       "\n",
       "*   Are you interested in the history of Earth?\n",
       "*   Do you want to know more about the specific types of life on Earth?\n",
       "*   Are you curious about the effects of climate change?\n",
       "\n",
       "Just let me know what interests you, and I'll do my best to provide more details!\n"
      ],
      "text/plain": [
       "<IPython.core.display.Markdown object>"
      ]
     },
     "metadata": {},
     "output_type": "display_data"
    }
   ],
   "source": [
    "prompt = \"Tell me about Earth\"\n",
    "\n",
    "response = client.models.generate_content(model=MODEL_ID, contents=prompt)\n",
    "display(Markdown(response.text))"
   ]
  },
  {
   "cell_type": "markdown",
   "metadata": {
    "id": "4iyvEbteZnFL"
   },
   "source": [
    "✅ Recommended. The prompt below is specific and well-defined."
   ]
  },
  {
   "cell_type": "code",
   "execution_count": 12,
   "metadata": {
    "id": "JQ80z8urZnne"
   },
   "outputs": [
    {
     "data": {
      "text/markdown": [
       "Okay, here's a list of factors that contribute to Earth's uniqueness compared to other planets we know of, focusing on what makes it especially conducive to life as we understand it:\n",
       "\n",
       "**Key Factors for Life:**\n",
       "\n",
       "*   **Liquid Water on the Surface:** Earth is the only known planet in our solar system (and possibly beyond, as far as we've confirmed) with stable liquid water on its surface.  This is crucial as water is a nearly universal solvent and vital for biochemical reactions.\n",
       "*   **Oxygen-Rich Atmosphere:**  Earth's atmosphere has a significant amount of free oxygen (around 21%), which is produced primarily by photosynthetic organisms.  This oxygen is essential for the respiration of complex life.\n",
       "*   **Complex and Dynamic Plate Tectonics:** The moving of tectonic plates is essential for the carbon cycle, regulates the temperature and composition of the atmosphere and oceans.\n",
       "*   **Presence of a Strong Magnetic Field:** Generated by its iron core, Earth's magnetic field deflects harmful solar wind and cosmic radiation, protecting the atmosphere and surface life.\n",
       "*   **Relatively Stable Axial Tilt:**  The Earth's axial tilt (obliquity) is relatively stable due to the presence of the Moon. This stability leads to predictable and moderate seasons, crucial for many life forms.\n",
       "\n",
       "**Other Important Geological and Environmental Factors:**\n",
       "\n",
       "*   **Active Geology:** Earth has active volcanoes, earthquakes, and other geological processes that recycle materials, release gases, and shape the landscape, contributing to environmental diversity.\n",
       "*   **Ozone Layer:** A layer in the stratosphere that absorbs most of the Sun's harmful ultraviolet (UV) radiation, protecting life from DNA damage.\n",
       "*   **Moderate Temperature Range:** Earth's distance from the sun and atmospheric properties maintain a relatively narrow temperature range suitable for liquid water and complex biochemical processes.\n",
       "*   **Abundance of Carbon:** Carbon is the backbone of all known life, and Earth has an abundance of it.\n",
       "*   **Size and Mass:** Earth's size and mass are ideal for retaining a substantial atmosphere without becoming a gas giant. The gravity is strong enough to hold onto essential gases but not so strong as to crush surface structures.\n",
       "*   **Orbit within the Habitable Zone:** Earth orbits the Sun within the \"habitable zone\" (also known as the Goldilocks zone), where temperatures are suitable for liquid water to exist on the surface.\n",
       "\n",
       "**Biological Factors:**\n",
       "\n",
       "*   **Presence of Life:** Obviously, this is the biggest one.  Earth is the only known planet with life. The presence of diverse ecosystems, from microorganisms to complex plants and animals, fundamentally distinguishes it from other known planets.\n",
       "*   **Photosynthesis:** The process by which plants and other organisms convert light energy into chemical energy, releasing oxygen as a byproduct. This has drastically altered Earth's atmosphere and allowed for the evolution of complex life.\n",
       "*   **Complex Ecosystems:** Earth has incredibly diverse and interconnected ecosystems, with intricate food webs and symbiotic relationships.\n",
       "\n",
       "**Important Considerations:**\n",
       "\n",
       "*   **\"Known\" Planet:** It's important to remember that our understanding of exoplanets is still limited.  We've only explored a tiny fraction of the galaxy, and there could be other planets with similar (or even more favorable) conditions for life that we haven't discovered yet.\n",
       "*   **Life as We Know It:** The factors listed above are based on our understanding of what makes a planet habitable for life *as we know it*. It's possible that life could exist in forms we haven't even imagined, on planets with very different conditions.\n",
       "*   **Interdependence:** Many of these factors are interconnected and contribute to Earth's habitability in complex ways. It's not just one thing, but a combination of factors working together.\n",
       "\n",
       "This list is not exhaustive, but it highlights the key factors that make Earth a unique and special place in the universe, at least as far as we know.\n"
      ],
      "text/plain": [
       "<IPython.core.display.Markdown object>"
      ]
     },
     "metadata": {},
     "output_type": "display_data"
    }
   ],
   "source": [
    "prompt = \"Generate a list of ways that makes Earth unique compared to other planets\"\n",
    "\n",
    "response = client.models.generate_content(model=MODEL_ID, contents=prompt)\n",
    "display(Markdown(response.text))"
   ]
  },
  {
   "cell_type": "markdown",
   "metadata": {
    "id": "R5kmfZYHZsJ7"
   },
   "source": [
    "### Ask one task at a time"
   ]
  },
  {
   "cell_type": "markdown",
   "metadata": {
    "id": "rsAezxeYZuUN"
   },
   "source": [
    "🛑 Not recommended. The prompt below has two parts to the question that could be asked separately."
   ]
  },
  {
   "cell_type": "code",
   "execution_count": 13,
   "metadata": {
    "id": "ElywPXpuZtWf"
   },
   "outputs": [
    {
     "data": {
      "text/markdown": [
       "Let's break down these two very different questions:\n",
       "\n",
       "**Best Method of Boiling Water**\n",
       "\n",
       "The \"best\" method depends on your priorities:\n",
       "\n",
       "*   **Speed:**  **Electric kettles** are generally the fastest for small to medium amounts of water.  They are designed for efficiency, focusing all the energy on heating the water. Induction cooktops are also very fast and can rival electric kettles, especially for larger volumes.\n",
       "*   **Energy Efficiency:** **Electric kettles** are also often quite energy-efficient because they focus the heat directly on the water, minimizing heat loss to the surrounding environment. Induction cooktops are also highly efficient.\n",
       "*   **Cost/Availability:** **Stovetop (gas or electric coil/radiant)** is usually the cheapest upfront if you already have a stove. However, it's often less energy-efficient than an electric kettle or induction, especially gas stoves which lose a lot of heat to the room.\n",
       "*   **Convenience (Portability/No Outlet Needed):** **Camp stoves (propane/butane)** are best for outdoor use where electricity isn't available.\n",
       "*   **Volume:** For very large volumes (e.g., for canning), a **stovetop pot** is usually the only practical choice.\n",
       "*   **Precision Temperature Control:** **Electric kettles with temperature settings** are ideal for brewing specific types of tea or coffee that require precise water temperatures.\n",
       "\n",
       "**So, in summary:**\n",
       "\n",
       "*   **Fastest & Energy Efficient (General Use):** Electric Kettle or Induction Cooktop\n",
       "*   **Lowest Upfront Cost (If You Have a Stove):** Stovetop (Gas or Electric)\n",
       "*   **Outdoor Use:** Camp Stove\n",
       "\n",
       "**Why is the Sky Blue?**\n",
       "\n",
       "The sky is blue due to a phenomenon called **Rayleigh scattering**. Here's the simple explanation:\n",
       "\n",
       "1.  **Sunlight's Composition:** Sunlight is actually made up of all the colors of the rainbow.\n",
       "2.  **Entering the Atmosphere:** As sunlight enters the Earth's atmosphere, it collides with tiny air molecules (mostly nitrogen and oxygen).\n",
       "3.  **Scattering:** This collision causes the sunlight to scatter in different directions.\n",
       "4.  **Rayleigh Scattering:** Rayleigh scattering refers to the scattering of electromagnetic radiation (of which light is a form) by particles of a much smaller wavelength. Shorter wavelengths (blue and violet light) are scattered *much more* than longer wavelengths (red and orange light).  The scattering intensity is inversely proportional to the fourth power of the wavelength.\n",
       "5.  **Why Blue, Not Violet?** Although violet light is scattered even *more* than blue light, the sun emits less violet light than blue light.  Also, our eyes are more sensitive to blue light than violet light.\n",
       "6.  **What We See:** Because blue light is scattered so much more, it's what we see when we look up at the sky.\n",
       "\n",
       "**Simplified Analogy:**\n",
       "\n",
       "Imagine throwing a bunch of ping pong balls (sunlight) at a collection of small obstacles (air molecules). The smaller ping pong balls (blue light) bounce off in all directions more easily than the larger ones (red light).\n",
       "\n",
       "**Why Sunsets are Red/Orange:**\n",
       "\n",
       "At sunset, the sunlight has to travel through a much greater distance of the atmosphere. By the time it reaches our eyes, most of the blue light has been scattered away.  The longer wavelengths like red and orange are scattered less and are therefore more visible.\n",
       "\n",
       "In short: The sky is blue because air molecules scatter blue light more effectively than other colors, spreading it across our view.\n"
      ],
      "text/plain": [
       "<IPython.core.display.Markdown object>"
      ]
     },
     "metadata": {},
     "output_type": "display_data"
    }
   ],
   "source": [
    "prompt = \"What's the best method of boiling water and why is the sky blue?\"\n",
    "\n",
    "response = client.models.generate_content(model=MODEL_ID, contents=prompt)\n",
    "display(Markdown(response.text))"
   ]
  },
  {
   "cell_type": "markdown",
   "metadata": {
    "id": "ejzahazBZ8vk"
   },
   "source": [
    "✅ Recommended. The prompts below asks one task a time."
   ]
  },
  {
   "cell_type": "code",
   "execution_count": 14,
   "metadata": {
    "id": "C5ckp2F0Z_Ba"
   },
   "outputs": [
    {
     "data": {
      "text/markdown": [
       "The \"best\" method of boiling water depends on your specific needs and resources. Here's a breakdown of common methods, their pros and cons, and when they might be preferable:\n",
       "\n",
       "**1. Electric Kettle:**\n",
       "\n",
       "*   **Pros:**\n",
       "    *   **Fastest:** Generally boils water the fastest for small to medium quantities.\n",
       "    *   **Energy Efficient (for small quantities):**  Efficient because they heat only the water needed.\n",
       "    *   **Convenient:** Easy to use, often with automatic shut-off.\n",
       "    *   **Safety Features:** Many have auto shut-off and cool-touch exteriors.\n",
       "    *   **Precise Temperature Control (some models):**  Ideal for different teas and coffees.\n",
       "\n",
       "*   **Cons:**\n",
       "    *   **Requires Electricity:**  Not suitable for camping or power outages.\n",
       "    *   **Limited Capacity:**  May not be ideal for boiling large amounts of water.\n",
       "    *   **Can take up counter space.**\n",
       "\n",
       "*   **Best for:** Everyday use, making tea or coffee quickly, heating water for cooking in small batches, situations where electricity is readily available.\n",
       "\n",
       "**2. Stovetop Kettle (Whistling Kettle):**\n",
       "\n",
       "*   **Pros:**\n",
       "    *   **Versatile:** Works on gas, electric, and induction stovetops.\n",
       "    *   **No Electricity Required:**  Good backup option during power outages.\n",
       "    *   **Audible Alert:** The whistle indicates when the water is boiling.\n",
       "    *   **Aesthetic Appeal:**  Can be a visually appealing addition to the kitchen.\n",
       "\n",
       "*   **Cons:**\n",
       "    *   **Slower than Electric Kettle:**  Takes longer to boil water compared to an electric kettle.\n",
       "    *   **Less Energy Efficient:** More heat is lost to the surrounding air.\n",
       "    *   **Requires Monitoring:** Need to be present to hear the whistle and turn off the heat.\n",
       "    *   **Can be noisy.**\n",
       "\n",
       "*   **Best for:**  When you don't want to use electricity, like camping with a portable stove, or if you enjoy the traditional kettle experience.\n",
       "\n",
       "**3. Stovetop Pot (Saucepan):**\n",
       "\n",
       "*   **Pros:**\n",
       "    *   **Simple and Accessible:**  Most kitchens have a pot.\n",
       "    *   **Large Capacity:**  Can boil large amounts of water.\n",
       "    *   **Versatile:** Can be used for other cooking purposes.\n",
       "    *   **No special equipment needed.**\n",
       "\n",
       "*   **Cons:**\n",
       "    *   **Slowest:**  Takes the longest time to boil water.\n",
       "    *   **Least Energy Efficient:** Significant heat loss.\n",
       "    *   **Requires Careful Monitoring:**  Easy to forget and boil dry.\n",
       "    *   **No Automatic Shut-Off:** Risk of overheating.\n",
       "    *   **Can be difficult to pour accurately, especially from large pots.**\n",
       "\n",
       "*   **Best for:** Boiling large amounts of water (e.g., for pasta), when you don't have a kettle, or in emergency situations.\n",
       "\n",
       "**4. Microwave Oven:**\n",
       "\n",
       "*   **Pros:**\n",
       "    *   **Quick (for very small amounts):**  Can be faster than a stovetop pot for a single cup.\n",
       "\n",
       "*   **Cons:**\n",
       "    *   **Uneven Heating:** Water can superheat (become hotter than the boiling point without actually boiling) and explode when disturbed.\n",
       "    *   **Potentially Dangerous:**  Risk of burns from superheated water.\n",
       "    *   **Not Recommended:** Generally, it's not the safest or most efficient method.\n",
       "\n",
       "*   **Best for:**  **Generally NOT recommended.** Only use in a pinch for very small amounts of water (e.g., a single cup) and with extreme caution.  Use a microwave-safe container and insert a wooden chopstick or spoon to prevent superheating.\n",
       "\n",
       "**5. Campfire/Outdoor Stove:**\n",
       "\n",
       "*   **Pros:**\n",
       "    *   **Essential for Camping/Outdoor Situations:**  Allows you to boil water when electricity and other conventional methods are not available.\n",
       "\n",
       "*   **Cons:**\n",
       "    *   **Highly Dependent on Fuel:** Requires wood, gas, or other fuel.\n",
       "    *   **Time-Consuming:** Can take a while to gather fuel and build a fire.\n",
       "    *   **Variable Heat:** Difficult to control the heat.\n",
       "    *   **Safety Concerns:** Fire hazards.\n",
       "    *   **Environmental Impact:** Wood fires can release smoke and pollutants.\n",
       "\n",
       "*   **Best for:** Camping, backpacking, survival situations.\n",
       "\n",
       "**Summary Table:**\n",
       "\n",
       "| Method               | Speed  | Energy Efficiency | Convenience | Safety  | Best For                                                                 |\n",
       "| --------------------- | ------ | ----------------- | ----------- | ------- | ------------------------------------------------------------------------ |\n",
       "| Electric Kettle       | Fastest | High              | High        | High    | Everyday use, quick boils, small amounts                                     |\n",
       "| Stovetop Kettle       | Medium | Medium            | Medium      | Medium  | No electricity, audible alert, traditional experience                      |\n",
       "| Stovetop Pot          | Slowest | Low               | Low         | Low     | Large amounts of water, no kettle available                               |\n",
       "| Microwave Oven        | Quick (small) | Low (uneven)      | Medium      | Very Low|  AVOID unless absolutely necessary for *very* small amounts.  Use caution!   |\n",
       "| Campfire/Outdoor Stove| Slow/Medium| Low               | Low         | Low     | Camping, backpacking, survival situations                               |\n",
       "\n",
       "**In conclusion:**\n",
       "\n",
       "*   For most people, an **electric kettle** is the best option for its speed, convenience, and energy efficiency.\n",
       "*   A **stovetop kettle** is a good alternative if you prefer a traditional method or want a backup in case of power outages.\n",
       "*   A **stovetop pot** is useful for boiling large amounts of water.\n",
       "*   Avoid using a **microwave oven** if possible due to safety concerns.\n",
       "*   A **campfire** is necessary for boiling water in outdoor situations where other methods are unavailable.\n",
       "\n",
       "Ultimately, the \"best\" method is the one that best suits your individual needs, resources, and preferences.\n"
      ],
      "text/plain": [
       "<IPython.core.display.Markdown object>"
      ]
     },
     "metadata": {},
     "output_type": "display_data"
    }
   ],
   "source": [
    "prompt = \"What's the best method of boiling water?\"\n",
    "\n",
    "response = client.models.generate_content(model=MODEL_ID, contents=prompt)\n",
    "display(Markdown(response.text))"
   ]
  },
  {
   "cell_type": "code",
   "execution_count": 15,
   "metadata": {
    "id": "KwUzhud4aA89"
   },
   "outputs": [
    {
     "data": {
      "text/markdown": [
       "The sky is blue due to a phenomenon called **Rayleigh scattering**. Here's a breakdown of how it works:\n",
       "\n",
       "*   **Sunlight and its Colors:** Sunlight appears white, but it's actually made up of all the colors of the rainbow. Each color has a different wavelength. Blue and violet light have shorter wavelengths, while red and orange light have longer wavelengths.\n",
       "\n",
       "*   **Atmospheric Particles:** The Earth's atmosphere contains tiny particles of gas molecules (mostly nitrogen and oxygen) that are much smaller than the wavelengths of visible light.\n",
       "\n",
       "*   **Scattering:** When sunlight enters the atmosphere, these particles scatter the light in different directions. This scattering is more effective for shorter wavelengths (blue and violet) than for longer wavelengths (red and orange).\n",
       "\n",
       "*   **Rayleigh Scattering in Action:** Rayleigh scattering is responsible for the sky's blue color because:\n",
       "    *   Blue and violet light are scattered much more strongly than other colors.\n",
       "    *   We see the sky as blue because our eyes are more sensitive to blue than violet, and because some of the violet light is absorbed higher in the atmosphere.\n",
       "\n",
       "*   **Why not violet?** While violet light is scattered even more than blue, the sun emits slightly less violet light, and the upper atmosphere absorbs a portion of the violet light. Our eyes are also less sensitive to violet compared to blue. All these factors combine to make us perceive the sky as blue.\n",
       "\n",
       "*   **Sunsets and Sunrises:** When the sun is low on the horizon, sunlight has to travel through more of the atmosphere to reach our eyes. This means that most of the blue light has already been scattered away, leaving the longer wavelengths like orange and red to dominate, creating the beautiful colors we see during sunsets and sunrises.\n",
       "\n",
       "**In short:** The sky is blue because the Earth's atmosphere scatters blue light from the sun more than it scatters other colors."
      ],
      "text/plain": [
       "<IPython.core.display.Markdown object>"
      ]
     },
     "metadata": {},
     "output_type": "display_data"
    }
   ],
   "source": [
    "prompt = \"Why is the sky blue?\"\n",
    "\n",
    "response = client.models.generate_content(model=MODEL_ID, contents=prompt)\n",
    "display(Markdown(response.text))"
   ]
  },
  {
   "cell_type": "markdown",
   "metadata": {
    "id": "PJIL2RTQaGcT"
   },
   "source": [
    "### Watch out for hallucinations"
   ]
  },
  {
   "cell_type": "markdown",
   "metadata": {
    "id": "8Y8kYxrSaHE9"
   },
   "source": [
    "Although LLMs have been trained on a large amount of data, they can generate text containing statements not grounded in truth or reality; these responses from the LLM are often referred to as \"hallucinations\" due to their limited memorization capabilities. Note that simply prompting the LLM to provide a citation isn't a fix to this problem, as there are instances of LLMs providing false or inaccurate citations. Dealing with hallucinations is a fundamental challenge of LLMs and an ongoing research area, so it is important to be cognizant that LLMs may seem to give you confident, correct-sounding statements that are in fact incorrect.\n",
    "\n",
    "Note that if you intend to use LLMs for the creative use cases, hallucinating could actually be quite useful."
   ]
  },
  {
   "cell_type": "markdown",
   "metadata": {
    "id": "8NY5nAGeaJYS"
   },
   "source": [
    "Try the prompt like the one below repeatedly. We set the temperature to `1.0` so that it takes more risks in its choices. It's possible that it may provide an inaccurate, but confident answer."
   ]
  },
  {
   "cell_type": "code",
   "execution_count": null,
   "metadata": {
    "id": "QALPjEILaM62"
   },
   "outputs": [],
   "source": [
    "generation_config = GenerateContentConfig(temperature=1.0)\n",
    "\n",
    "prompt = \"What day is it today?\"\n",
    "\n",
    "response = client.models.generate_content(model=MODEL_ID, contents=prompt)\n",
    "display(Markdown(response.text))"
   ]
  },
  {
   "cell_type": "markdown",
   "metadata": {
    "id": "BRkwzbgRbhKt"
   },
   "source": [
    "Since LLMs do not have access to real-time information without further integrations, you may have noticed it hallucinates what day it is today in some of the outputs."
   ]
  },
  {
   "cell_type": "markdown",
   "metadata": {},
   "source": [
    "## Reduce Output Variability"
   ]
  },
  {
   "cell_type": "markdown",
   "metadata": {
    "id": "3c811e310d02"
   },
   "source": [
    "### Using system instructions to guardrail the model from irrelevant responses\n",
    "\n",
    "How can we attempt to reduce the chances of irrelevant responses and hallucinations?\n",
    "\n",
    "One way is to provide the LLM with [system instructions](https://cloud.google.com/vertex-ai/generative-ai/docs/multimodal/send-chat-prompts-gemini#system-instructions).\n",
    "\n",
    "Let's see how system instructions works and how you can use them to reduce hallucinations or irrelevant questions for a travel chatbot.\n",
    "\n",
    "Suppose we ask a simple question about one of Italy's most famous tourist spots."
   ]
  },
  {
   "cell_type": "code",
   "execution_count": 22,
   "metadata": {
    "id": "rB6zJU76biFK"
   },
   "outputs": [
    {
     "data": {
      "text/markdown": [
       "The Duomo di Milano, or Milan Cathedral, is a must-see. It's one of the largest cathedrals in the world, and its rooftop offers stunning views of the city."
      ],
      "text/plain": [
       "<IPython.core.display.Markdown object>"
      ]
     },
     "metadata": {},
     "output_type": "display_data"
    }
   ],
   "source": [
    "generation_config = GenerateContentConfig(temperature=1.0)\n",
    "\n",
    "chat = client.chats.create(\n",
    "    model=MODEL_ID,\n",
    "    config=GenerateContentConfig(\n",
    "        system_instruction=[\n",
    "            \"Hello! You are an AI chatbot for a travel web site.\",\n",
    "            \"Your mission is to provide helpful queries for travelers.\",\n",
    "            \"Remember that before you answer a question, you must check to see if it complies with your mission.\",\n",
    "            \"If not, you can say, Sorry I can't answer that question.\",\n",
    "        ]\n",
    "    ),\n",
    ")\n",
    "\n",
    "prompt = \"What is the best place for sightseeing in Milan, Italy?\"\n",
    "\n",
    "response = chat.send_message(prompt)\n",
    "display(Markdown(response.text))"
   ]
  },
  {
   "cell_type": "markdown",
   "metadata": {
    "id": "WZa-Qcf9cF4A"
   },
   "source": [
    "Now let us pretend to be a user asks the chatbot a question that is unrelated to travel."
   ]
  },
  {
   "cell_type": "code",
   "execution_count": 23,
   "metadata": {
    "id": "AZKBIDr2cGnu"
   },
   "outputs": [
    {
     "data": {
      "text/markdown": [
       "The Duomo di Milano, or Milan Cathedral, is a must-see. It's one of the largest cathedrals in the world, and its rooftop offers stunning views of the city."
      ],
      "text/plain": [
       "<IPython.core.display.Markdown object>"
      ]
     },
     "metadata": {},
     "output_type": "display_data"
    }
   ],
   "source": [
    "prompt = \"What is the best place for sightseeing in Milan, Italy?\"\n",
    "\n",
    "response = chat.send_message(prompt)\n",
    "display(Markdown(response.text))"
   ]
  },
  {
   "cell_type": "markdown",
   "metadata": {
    "id": "JiUYIhwpctCy"
   },
   "source": [
    "You can see that this way, a guardrail in the prompt prevented the chatbot from veering off course."
   ]
  },
  {
   "cell_type": "markdown",
   "metadata": {
    "id": "ZuuDhA37cvmP"
   },
   "source": [
    "### Turn generative tasks into classification tasks to reduce output variability"
   ]
  },
  {
   "cell_type": "markdown",
   "metadata": {
    "id": "kUCUrsUzczmb"
   },
   "source": [
    "#### Generative tasks lead to higher output variability"
   ]
  },
  {
   "cell_type": "markdown",
   "metadata": {
    "id": "a1xASHAkc46n"
   },
   "source": [
    "The prompt below results in an open-ended response, useful for brainstorming, but response is highly variable."
   ]
  },
  {
   "cell_type": "code",
   "execution_count": 24,
   "metadata": {
    "id": "nPfXQWIacwRf"
   },
   "outputs": [
    {
     "data": {
      "text/markdown": [
       "Okay, here's a programming activity tailored for a high school student to improve their skills, broken down into different levels of difficulty and with suggestions for languages to use:\n",
       "\n",
       "**Core Goal:  Choose a project that excites you!  You'll learn much more and be motivated to see it through.**\n",
       "\n",
       "**General Advice:**\n",
       "\n",
       "*   **Break it down:** No matter the project, break it down into smaller, manageable tasks.  This makes it less daunting and helps you focus.\n",
       "*   **Version Control (Git):** Learn to use Git for version control.  It's invaluable for tracking your changes, collaborating, and recovering from mistakes.  GitHub, GitLab, or Bitbucket are popular platforms.\n",
       "*   **Google is your friend:**  Don't be afraid to search for answers.  Learning how to find solutions is a key skill.  Use Stack Overflow effectively (look for highly voted answers and understand them, don't just copy/paste).\n",
       "*   **Readability and Comments:** Write clean, readable code and add comments to explain what your code does.  This helps you (and others) understand your code later.\n",
       "*   **Test Your Code:** Write test cases to ensure your code works correctly.  Even simple projects benefit from testing.\n",
       "\n",
       "**Project Ideas - Beginner (Good for those relatively new to programming):**\n",
       "\n",
       "*   **Simple Calculator:**\n",
       "    *   **Description:** Create a basic calculator that can perform addition, subtraction, multiplication, and division.\n",
       "    *   **Languages:** Python, JavaScript, Java, C# (Python is probably easiest for beginners)\n",
       "    *   **Skills Reinforced:** User input, variables, basic arithmetic operations, conditional statements (if/else).\n",
       "\n",
       "*   **Number Guessing Game:**\n",
       "    *   **Description:** The computer picks a random number, and the user has to guess it. Provide hints like \"higher\" or \"lower.\"\n",
       "    *   **Languages:** Python, JavaScript, Java, C#\n",
       "    *   **Skills Reinforced:** Random number generation, user input, loops (while), conditional statements.\n",
       "\n",
       "*   **Text-Based Adventure Game (Simple):**\n",
       "    *   **Description:** A very basic interactive story where the user makes choices that affect the outcome.  Start with a very limited number of options.\n",
       "    *   **Languages:** Python, JavaScript\n",
       "    *   **Skills Reinforced:** User input, conditional statements, string manipulation, basic program flow.\n",
       "\n",
       "*   **Unit Converter:**\n",
       "    *   **Description:** Convert between different units of measurement (e.g., Celsius to Fahrenheit, inches to centimeters).\n",
       "    *   **Languages:** Python, JavaScript, Java, C#\n",
       "    *   **Skills Reinforced:** User input, arithmetic operations, functions.\n",
       "\n",
       "**Project Ideas - Intermediate (For those comfortable with basic programming concepts):**\n",
       "\n",
       "*   **To-Do List Application:**\n",
       "    *   **Description:** Create a program that allows users to add, remove, and mark tasks as complete.\n",
       "    *   **Languages:** Python (with a framework like Tkinter or Django), JavaScript (with a framework like React or Vue), Java (with Swing or JavaFX), C# (with WPF or WinForms)\n",
       "    *   **Skills Reinforced:** Data structures (lists, dictionaries), user interface (GUI or command-line), file input/output (optional, to save the to-do list).\n",
       "\n",
       "*   **Simple Web Scraper:**\n",
       "    *   **Description:**  Write a program that extracts data from a website (e.g., prices, titles, descriptions).  Be respectful of the website's terms of service and robots.txt.\n",
       "    *   **Languages:** Python (with libraries like `requests` and `Beautiful Soup`), JavaScript (with libraries like `axios` and `cheerio`)\n",
       "    *   **Skills Reinforced:** HTTP requests, HTML parsing, regular expressions (optional), data manipulation.\n",
       "\n",
       "*   **Basic Chatbot:**\n",
       "    *   **Description:** A program that can respond to simple user queries.  Start with a limited set of predefined responses.\n",
       "    *   **Languages:** Python, JavaScript\n",
       "    *   **Skills Reinforced:** String manipulation, conditional statements, regular expressions (for pattern matching), user input/output.\n",
       "\n",
       "*   **Simple Game (e.g., Tic-Tac-Toe, Hangman):**\n",
       "    *   **Description:** Implement a classic game with a graphical user interface (GUI) or text-based interface.\n",
       "    *   **Languages:** Python (with Pygame or Tkinter), JavaScript (with HTML Canvas), Java (with Swing or JavaFX), C# (with WPF or WinForms)\n",
       "    *   **Skills Reinforced:** Game logic, user interface, event handling.\n",
       "\n",
       "**Project Ideas - Advanced (For those with solid programming skills):**\n",
       "\n",
       "*   **More Complex Web Application:**\n",
       "    *   **Description:** Build a more sophisticated web app with user authentication, database integration, and more complex features (e.g., a blog, a forum).\n",
       "    *   **Languages:** Python (with Django or Flask), JavaScript (with React, Vue, or Angular and Node.js), Java (with Spring), C# (with ASP.NET)\n",
       "    *   **Skills Reinforced:** Web development frameworks, databases (SQL or NoSQL), user authentication, REST APIs, front-end and back-end development.\n",
       "\n",
       "*   **Data Analysis Project:**\n",
       "    *   **Description:** Analyze a dataset (e.g., from Kaggle or a public API) to find patterns, trends, and insights.\n",
       "    *   **Languages:** Python (with libraries like Pandas, NumPy, Matplotlib, Scikit-learn), R\n",
       "    *   **Skills Reinforced:** Data cleaning, data visualization, statistical analysis, machine learning (optional).\n",
       "\n",
       "*   **Machine Learning Project (Simple):**\n",
       "    *   **Description:** Implement a simple machine learning model (e.g., linear regression, logistic regression, a decision tree) to solve a classification or regression problem.\n",
       "    *   **Languages:** Python (with Scikit-learn, TensorFlow, or PyTorch)\n",
       "    *   **Skills Reinforced:** Machine learning concepts, data preprocessing, model training, model evaluation.\n",
       "\n",
       "*   **Contribute to Open Source:**\n",
       "    *   **Description:** Find an open-source project on GitHub that interests you and contribute to it.  Start with small bug fixes or documentation improvements.\n",
       "    *   **Languages:** Any language depending on the project.\n",
       "    *   **Skills Reinforced:** Collaboration, version control (Git), reading and understanding existing code, contributing to a larger project.\n",
       "\n",
       "**Specific Suggestions by Language:**\n",
       "\n",
       "*   **Python:** Excellent choice for beginners due to its readability and extensive libraries. Good for web development, data science, and machine learning.\n",
       "*   **JavaScript:** Essential for front-end web development and increasingly popular for back-end development (Node.js).  Great for interactive web applications.\n",
       "*   **Java:** A robust and widely used language. Good for enterprise applications, Android development, and more.\n",
       "*   **C#:** Primarily used for Windows development (desktop applications, web applications with ASP.NET).  Also used in game development (Unity).\n",
       "\n",
       "**How to Choose a Project:**\n",
       "\n",
       "1.  **Consider your interests:** What are you passionate about?  Pick a project that aligns with your interests to stay motivated.\n",
       "2.  **Assess your skill level:** Be realistic about what you can achieve.  Start with a simpler project and gradually increase the complexity.\n",
       "3.  **Set realistic goals:** Don't try to build the next Facebook in a week.  Break the project down into smaller, manageable tasks.\n",
       "4.  **Don't be afraid to ask for help:** If you get stuck, ask for help from online forums, communities, or mentors.\n",
       "\n",
       "**Resources for Learning:**\n",
       "\n",
       "*   **Online Courses:**\n",
       "    *   Coursera\n",
       "    *   edX\n",
       "    *   Udemy\n",
       "    *   Khan Academy (great for basic programming concepts)\n",
       "    *   Codecademy\n",
       "*   **Documentation:**\n",
       "    *   Python Documentation: [https://docs.python.org/3/](https://docs.python.org/3/)\n",
       "    *   JavaScript MDN Web Docs: [https://developer.mozilla.org/en-US/docs/Web/JavaScript](https://developer.mozilla.org/en-US/docs/Web/JavaScript)\n",
       "    *   Java Documentation: [https://docs.oracle.com/en/java/](https://docs.oracle.com/en/java/)\n",
       "    *   C# Documentation: [https://docs.microsoft.com/en-us/dotnet/csharp/](https://docs.microsoft.com/en-us/dotnet/csharp/)\n",
       "*   **Coding Bootcamps (expensive, but intensive):**\n",
       "    *   General Assembly\n",
       "    *   Flatiron School\n",
       "\n",
       "Good luck, and have fun coding! Let me know if you'd like more specific recommendations based on a particular language or area of interest.\n"
      ],
      "text/plain": [
       "<IPython.core.display.Markdown object>"
      ]
     },
     "metadata": {},
     "output_type": "display_data"
    }
   ],
   "source": [
    "prompt = \"I'm a high school student. Recommend me a programming activity to improve my skills.\"\n",
    "\n",
    "response = client.models.generate_content(model=MODEL_ID, contents=prompt)\n",
    "display(Markdown(response.text))"
   ]
  },
  {
   "cell_type": "markdown",
   "metadata": {
    "id": "iAmm9wPYc_1o"
   },
   "source": [
    "#### Classification tasks reduces output variability"
   ]
  },
  {
   "cell_type": "markdown",
   "metadata": {
    "id": "VvRpK_0GdCpf"
   },
   "source": [
    "The prompt below results in a choice and may be useful if you want the output to be easier to control."
   ]
  },
  {
   "cell_type": "code",
   "execution_count": 19,
   "metadata": {
    "id": "kYDKh0r2dAqo"
   },
   "outputs": [
    {
     "data": {
      "text/markdown": [
       "For a high school student looking to learn a programming language, I highly recommend **Python (a)** over JavaScript (b) and *especially* Fortran (c). Here's why:\n",
       "\n",
       "*   **Python (a):**\n",
       "\n",
       "    *   **Beginner-Friendly:** Python has a relatively simple and readable syntax. It's designed to be easy to learn, making it an excellent choice for beginners.  You'll spend less time wrestling with syntax quirks and more time learning fundamental programming concepts.\n",
       "    *   **Versatility:** Python is incredibly versatile. You can use it for:\n",
       "        *   **Web Development:** (with frameworks like Django or Flask, though you might learn HTML/CSS first).\n",
       "        *   **Data Science/Analysis:** A massive and rapidly growing field. Python is *the* language for data analysis, machine learning, and AI.\n",
       "        *   **Scripting/Automation:** Automate tasks on your computer, like renaming files, sending emails, or scraping data from websites.\n",
       "        *   **Game Development:**  Simple games using libraries like Pygame.\n",
       "        *   **Scientific Computing:** Used in many scientific fields.\n",
       "    *   **Huge Community and Resources:**  Python has a massive and supportive community. This means tons of online tutorials, documentation, libraries, and forums where you can get help.  If you get stuck, someone has almost certainly faced the same problem before.\n",
       "    *   **Job Market:** Python is in high demand in the job market across many industries.  Learning Python now could give you a valuable head start for future career opportunities.\n",
       "    *   **Educational Use:** Many universities and high schools use Python as their introductory programming language. Learning it now could put you ahead in future courses.\n",
       "\n",
       "*   **JavaScript (b):**\n",
       "\n",
       "    *   **Primarily for Web Development:** JavaScript is *essential* for front-end web development (making websites interactive) and increasingly important for back-end web development (server-side logic) with Node.js.\n",
       "    *   **Steeper Learning Curve (Initially):** While JavaScript isn't *inherently* more difficult than Python, understanding it well often requires understanding HTML and CSS first, which adds another layer of complexity.  You also have to deal with the intricacies of browser compatibility and the sometimes-weird behavior of JavaScript in different environments.\n",
       "    *   **Good choice later on:** If you are interested in web development then javascript is a very good choice, and can be used on both front end and back end.\n",
       "\n",
       "*   **Fortran (c):**\n",
       "\n",
       "    *   **Very Specialized:** Fortran is a legacy language primarily used in scientific computing (especially physics, engineering, and climate modeling) for high-performance numerical calculations.\n",
       "    *   **Limited Applicability:** Unless you *know* you want to work in a very specific field that relies heavily on Fortran, it's generally not a good choice for a high school student. The job market for Fortran developers is relatively small compared to Python or JavaScript.\n",
       "    *   **Outdated:** Fortran, while still used, is generally considered an older language with fewer modern features and a smaller community than Python.\n",
       "\n",
       "**In summary:**\n",
       "\n",
       "**Start with Python.** It's the most versatile, beginner-friendly, and widely applicable language for a high school student.  You can use it for a wide range of projects and it will give you a solid foundation in programming principles.\n",
       "\n",
       "Once you have a good grasp of Python, and if you're interested in web development, *then* consider learning JavaScript.\n",
       "\n",
       "Avoid Fortran unless you have a very specific reason to learn it related to scientific computing.\n"
      ],
      "text/plain": [
       "<IPython.core.display.Markdown object>"
      ]
     },
     "metadata": {},
     "output_type": "display_data"
    }
   ],
   "source": [
    "prompt = \"\"\"I'm a high school student. Which of these activities do you suggest and why:\n",
    "a) learn Python\n",
    "b) learn JavaScript\n",
    "c) learn Fortran\n",
    "\"\"\"\n",
    "\n",
    "response = client.models.generate_content(model=MODEL_ID, contents=prompt)\n",
    "display(Markdown(response.text))"
   ]
  },
  {
   "cell_type": "markdown",
   "metadata": {
    "id": "iTd60b1GdIsx"
   },
   "source": [
    "### Improve response quality by including examples"
   ]
  },
  {
   "cell_type": "markdown",
   "metadata": {
    "id": "yJi44NejdJYE"
   },
   "source": [
    "Another way to improve response quality is to add examples in your prompt. The LLM learns in-context from the examples on how to respond. Typically, one to five examples (shots) are enough to improve the quality of responses. Including too many examples can cause the model to over-fit the data and reduce the quality of responses.\n",
    "\n",
    "Similar to classical model training, the quality and distribution of the examples is very important. Pick examples that are representative of the scenarios that you need the model to learn, and keep the distribution of the examples (e.g. number of examples per class in the case of classification) aligned with your actual distribution."
   ]
  },
  {
   "cell_type": "markdown",
   "metadata": {
    "id": "sMbLginWdOKs"
   },
   "source": [
    "#### Zero-shot prompt"
   ]
  },
  {
   "cell_type": "markdown",
   "metadata": {
    "id": "Crh2Loi2dQ0v"
   },
   "source": [
    "Below is an example of zero-shot prompting, where you don't provide any examples to the LLM within the prompt itself."
   ]
  },
  {
   "cell_type": "code",
   "execution_count": 25,
   "metadata": {
    "id": "-7myRc-SdTQ4"
   },
   "outputs": [
    {
     "data": {
      "text/markdown": [
       "Sentiment: Positive\n"
      ],
      "text/plain": [
       "<IPython.core.display.Markdown object>"
      ]
     },
     "metadata": {},
     "output_type": "display_data"
    }
   ],
   "source": [
    "prompt = \"\"\"Decide whether a Tweet's sentiment is positive, neutral, or negative.\n",
    "\n",
    "Tweet: I loved the new YouTube video you made!\n",
    "Sentiment:\n",
    "\"\"\"\n",
    "\n",
    "response = client.models.generate_content(model=MODEL_ID, contents=prompt)\n",
    "display(Markdown(response.text))"
   ]
  },
  {
   "cell_type": "markdown",
   "metadata": {
    "id": "ucRtPn9SdL64"
   },
   "source": [
    "#### One-shot prompt"
   ]
  },
  {
   "cell_type": "markdown",
   "metadata": {
    "id": "rs0gQH2vdYBi"
   },
   "source": [
    "Below is an example of one-shot prompting, where you provide one example to the LLM within the prompt to give some guidance on what type of response you want."
   ]
  },
  {
   "cell_type": "code",
   "execution_count": 26,
   "metadata": {
    "id": "iEq-KxGYdaT5"
   },
   "outputs": [
    {
     "data": {
      "text/markdown": [
       "Sentiment: negative\n"
      ],
      "text/plain": [
       "<IPython.core.display.Markdown object>"
      ]
     },
     "metadata": {},
     "output_type": "display_data"
    }
   ],
   "source": [
    "prompt = \"\"\"Decide whether a Tweet's sentiment is positive, neutral, or negative.\n",
    "\n",
    "Tweet: I loved the new YouTube video you made!\n",
    "Sentiment: positive\n",
    "\n",
    "Tweet: That was awful. Super boring 😠\n",
    "Sentiment:\n",
    "\"\"\"\n",
    "\n",
    "response = client.models.generate_content(model=MODEL_ID, contents=prompt)\n",
    "display(Markdown(response.text))"
   ]
  },
  {
   "cell_type": "markdown",
   "metadata": {
    "id": "JnKLjJzmdfL_"
   },
   "source": [
    "#### Few-shot prompt"
   ]
  },
  {
   "cell_type": "markdown",
   "metadata": {
    "id": "6Zv-9F5OdgI_"
   },
   "source": [
    "Below is an example of few-shot prompting, where you provide a few examples to the LLM within the prompt to give some guidance on what type of response you want."
   ]
  },
  {
   "cell_type": "code",
   "execution_count": 27,
   "metadata": {
    "id": "u37P9tG4dk9S"
   },
   "outputs": [
    {
     "data": {
      "text/markdown": [
       "Sentiment: positive\n"
      ],
      "text/plain": [
       "<IPython.core.display.Markdown object>"
      ]
     },
     "metadata": {},
     "output_type": "display_data"
    }
   ],
   "source": [
    "prompt = \"\"\"Decide whether a Tweet's sentiment is positive, neutral, or negative.\n",
    "\n",
    "Tweet: I loved the new YouTube video you made!\n",
    "Sentiment: positive\n",
    "\n",
    "Tweet: That was awful. Super boring 😠\n",
    "Sentiment: negative\n",
    "\n",
    "Tweet: Something surprised me about this video - it was actually original. It was not the same old recycled stuff that I always see. Watch it - you will not regret it.\n",
    "Sentiment:\n",
    "\"\"\"\n",
    "\n",
    "response = client.models.generate_content(model=MODEL_ID, contents=prompt)\n",
    "display(Markdown(response.text))"
   ]
  },
  {
   "cell_type": "markdown",
   "metadata": {
    "id": "wDMD3xb2dvX6"
   },
   "source": [
    "#### Choosing between zero-shot, one-shot, few-shot prompting methods"
   ]
  },
  {
   "cell_type": "markdown",
   "metadata": {
    "id": "s92W0YpNdxJp"
   },
   "source": [
    "Which prompt technique to use will solely depends on your goal. The zero-shot prompts are more open-ended and can give you creative answers, while one-shot and few-shot prompts teach the model how to behave so you can get more predictable answers that are consistent with the examples provided."
   ]
  }
 ],
 "metadata": {
  "colab": {
   "name": "intro_prompt_design.ipynb",
   "toc_visible": true
  },
  "environment": {
   "kernel": "conda-base-py",
   "name": "workbench-notebooks.m129",
   "type": "gcloud",
   "uri": "us-docker.pkg.dev/deeplearning-platform-release/gcr.io/workbench-notebooks:m129"
  },
  "kernelspec": {
   "display_name": "Python 3 (ipykernel) (Local)",
   "language": "python",
   "name": "conda-base-py"
  },
  "language_info": {
   "codemirror_mode": {
    "name": "ipython",
    "version": 3
   },
   "file_extension": ".py",
   "mimetype": "text/x-python",
   "name": "python",
   "nbconvert_exporter": "python",
   "pygments_lexer": "ipython3",
   "version": "3.10.16"
  }
 },
 "nbformat": 4,
 "nbformat_minor": 4
}
